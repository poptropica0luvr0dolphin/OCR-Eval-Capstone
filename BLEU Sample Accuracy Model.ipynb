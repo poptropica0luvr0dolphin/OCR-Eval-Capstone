{
 "cells": [
  {
   "cell_type": "markdown",
   "id": "e2981055",
   "metadata": {},
   "source": [
    "# BLEU evaluation model\n",
    "\n",
    "Below is an example of how we can run a BLEU analysis on our transcriptions given the correct transcriptions for comparison. \n",
    "\n",
    "The words of a sentence are put into a list which is the input type the nltk function expects. Scores range from 0 to 1, the closer to 1 the score is the stronger the transcription is. "
   ]
  },
  {
   "cell_type": "code",
   "execution_count": 1,
   "id": "dd0c54fb",
   "metadata": {},
   "outputs": [
    {
     "name": "stdout",
     "output_type": "stream",
     "text": [
      "0.4548019047027907\n"
     ]
    }
   ],
   "source": [
    "import nltk\n",
    "\n",
    "hypothesis = ['It', 'is', 'a', 'cat', 'at', 'room']\n",
    "reference = ['It', 'is', 'a', 'cat', 'inside', 'the', 'room']\n",
    "#there may be several references\n",
    "BLEUscore = nltk.translate.bleu_score.sentence_bleu([reference], hypothesis)\n",
    "print(BLEUscore)"
   ]
  }
 ],
 "metadata": {
  "kernelspec": {
   "display_name": "Python 3 (ipykernel)",
   "language": "python",
   "name": "python3"
  },
  "language_info": {
   "codemirror_mode": {
    "name": "ipython",
    "version": 3
   },
   "file_extension": ".py",
   "mimetype": "text/x-python",
   "name": "python",
   "nbconvert_exporter": "python",
   "pygments_lexer": "ipython3",
   "version": "3.10.9"
  }
 },
 "nbformat": 4,
 "nbformat_minor": 5
}
